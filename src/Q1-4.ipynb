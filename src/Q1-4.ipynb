{
 "cells": [
  {
   "attachments": {},
   "cell_type": "markdown",
   "metadata": {},
   "source": [
    "## Problem Statement\n",
    "\n",
    "The number of reported results vary daily. Develop a model to explain this variation and use your model to create a prediction interval for the number of reported results on March 1, 2023. Do any attributes of the word affect the percentage of scores reported that were played in Hard Mode? If so, how? If not, why not?"
   ]
  },
  {
   "cell_type": "code",
   "execution_count": 71,
   "metadata": {},
   "outputs": [],
   "source": [
    "import numpy as np\n",
    "import pandas as pd\n",
    "import scipy.stats as stats\n",
    "import matplotlib.pyplot as plt"
   ]
  },
  {
   "attachments": {},
   "cell_type": "markdown",
   "metadata": {},
   "source": [
    "First, read the dates and the corresponding data."
   ]
  },
  {
   "cell_type": "code",
   "execution_count": 72,
   "metadata": {},
   "outputs": [
    {
     "data": {
      "text/html": [
       "<div>\n",
       "<style scoped>\n",
       "    .dataframe tbody tr th:only-of-type {\n",
       "        vertical-align: middle;\n",
       "    }\n",
       "\n",
       "    .dataframe tbody tr th {\n",
       "        vertical-align: top;\n",
       "    }\n",
       "\n",
       "    .dataframe thead th {\n",
       "        text-align: right;\n",
       "    }\n",
       "</style>\n",
       "<table border=\"1\" class=\"dataframe\">\n",
       "  <thead>\n",
       "    <tr style=\"text-align: right;\">\n",
       "      <th></th>\n",
       "      <th>word</th>\n",
       "      <th>result_num</th>\n",
       "      <th>hard_mode_num</th>\n",
       "      <th>trial_1</th>\n",
       "      <th>trial_2</th>\n",
       "      <th>trial_3</th>\n",
       "      <th>trial_4</th>\n",
       "      <th>trial_5</th>\n",
       "      <th>trial_6</th>\n",
       "      <th>trial_x</th>\n",
       "      <th>h/t</th>\n",
       "    </tr>\n",
       "    <tr>\n",
       "      <th>date</th>\n",
       "      <th></th>\n",
       "      <th></th>\n",
       "      <th></th>\n",
       "      <th></th>\n",
       "      <th></th>\n",
       "      <th></th>\n",
       "      <th></th>\n",
       "      <th></th>\n",
       "      <th></th>\n",
       "      <th></th>\n",
       "      <th></th>\n",
       "    </tr>\n",
       "  </thead>\n",
       "  <tbody>\n",
       "    <tr>\n",
       "      <th>2022-01-07</th>\n",
       "      <td>slump</td>\n",
       "      <td>80630</td>\n",
       "      <td>1362</td>\n",
       "      <td>1</td>\n",
       "      <td>3</td>\n",
       "      <td>23</td>\n",
       "      <td>39</td>\n",
       "      <td>24</td>\n",
       "      <td>9</td>\n",
       "      <td>1</td>\n",
       "      <td>0.016892</td>\n",
       "    </tr>\n",
       "    <tr>\n",
       "      <th>2022-01-08</th>\n",
       "      <td>crank</td>\n",
       "      <td>101503</td>\n",
       "      <td>1763</td>\n",
       "      <td>1</td>\n",
       "      <td>5</td>\n",
       "      <td>23</td>\n",
       "      <td>31</td>\n",
       "      <td>24</td>\n",
       "      <td>14</td>\n",
       "      <td>2</td>\n",
       "      <td>0.017369</td>\n",
       "    </tr>\n",
       "    <tr>\n",
       "      <th>2022-01-09</th>\n",
       "      <td>gorge</td>\n",
       "      <td>91477</td>\n",
       "      <td>1913</td>\n",
       "      <td>1</td>\n",
       "      <td>3</td>\n",
       "      <td>13</td>\n",
       "      <td>27</td>\n",
       "      <td>30</td>\n",
       "      <td>22</td>\n",
       "      <td>4</td>\n",
       "      <td>0.020912</td>\n",
       "    </tr>\n",
       "    <tr>\n",
       "      <th>2022-01-10</th>\n",
       "      <td>query</td>\n",
       "      <td>107134</td>\n",
       "      <td>2242</td>\n",
       "      <td>1</td>\n",
       "      <td>4</td>\n",
       "      <td>16</td>\n",
       "      <td>30</td>\n",
       "      <td>30</td>\n",
       "      <td>17</td>\n",
       "      <td>2</td>\n",
       "      <td>0.020927</td>\n",
       "    </tr>\n",
       "    <tr>\n",
       "      <th>2022-01-11</th>\n",
       "      <td>drink</td>\n",
       "      <td>153880</td>\n",
       "      <td>3017</td>\n",
       "      <td>1</td>\n",
       "      <td>9</td>\n",
       "      <td>35</td>\n",
       "      <td>34</td>\n",
       "      <td>16</td>\n",
       "      <td>5</td>\n",
       "      <td>1</td>\n",
       "      <td>0.019606</td>\n",
       "    </tr>\n",
       "    <tr>\n",
       "      <th>...</th>\n",
       "      <td>...</td>\n",
       "      <td>...</td>\n",
       "      <td>...</td>\n",
       "      <td>...</td>\n",
       "      <td>...</td>\n",
       "      <td>...</td>\n",
       "      <td>...</td>\n",
       "      <td>...</td>\n",
       "      <td>...</td>\n",
       "      <td>...</td>\n",
       "      <td>...</td>\n",
       "    </tr>\n",
       "    <tr>\n",
       "      <th>2022-12-27</th>\n",
       "      <td>condo</td>\n",
       "      <td>20879</td>\n",
       "      <td>2012</td>\n",
       "      <td>0</td>\n",
       "      <td>2</td>\n",
       "      <td>17</td>\n",
       "      <td>35</td>\n",
       "      <td>29</td>\n",
       "      <td>14</td>\n",
       "      <td>3</td>\n",
       "      <td>0.096365</td>\n",
       "    </tr>\n",
       "    <tr>\n",
       "      <th>2022-12-28</th>\n",
       "      <td>impel</td>\n",
       "      <td>20160</td>\n",
       "      <td>1937</td>\n",
       "      <td>0</td>\n",
       "      <td>3</td>\n",
       "      <td>21</td>\n",
       "      <td>40</td>\n",
       "      <td>25</td>\n",
       "      <td>9</td>\n",
       "      <td>1</td>\n",
       "      <td>0.096081</td>\n",
       "    </tr>\n",
       "    <tr>\n",
       "      <th>2022-12-29</th>\n",
       "      <td>havoc</td>\n",
       "      <td>20001</td>\n",
       "      <td>1919</td>\n",
       "      <td>0</td>\n",
       "      <td>2</td>\n",
       "      <td>16</td>\n",
       "      <td>38</td>\n",
       "      <td>30</td>\n",
       "      <td>12</td>\n",
       "      <td>2</td>\n",
       "      <td>0.095945</td>\n",
       "    </tr>\n",
       "    <tr>\n",
       "      <th>2022-12-30</th>\n",
       "      <td>molar</td>\n",
       "      <td>21204</td>\n",
       "      <td>1973</td>\n",
       "      <td>0</td>\n",
       "      <td>4</td>\n",
       "      <td>21</td>\n",
       "      <td>38</td>\n",
       "      <td>26</td>\n",
       "      <td>9</td>\n",
       "      <td>1</td>\n",
       "      <td>0.093048</td>\n",
       "    </tr>\n",
       "    <tr>\n",
       "      <th>2022-12-31</th>\n",
       "      <td>manly</td>\n",
       "      <td>20380</td>\n",
       "      <td>1899</td>\n",
       "      <td>0</td>\n",
       "      <td>2</td>\n",
       "      <td>17</td>\n",
       "      <td>37</td>\n",
       "      <td>29</td>\n",
       "      <td>12</td>\n",
       "      <td>2</td>\n",
       "      <td>0.093180</td>\n",
       "    </tr>\n",
       "  </tbody>\n",
       "</table>\n",
       "<p>359 rows × 11 columns</p>\n",
       "</div>"
      ],
      "text/plain": [
       "             word  result_num  hard_mode_num  trial_1  trial_2  trial_3  \\\n",
       "date                                                                      \n",
       "2022-01-07  slump       80630           1362        1        3       23   \n",
       "2022-01-08  crank      101503           1763        1        5       23   \n",
       "2022-01-09  gorge       91477           1913        1        3       13   \n",
       "2022-01-10  query      107134           2242        1        4       16   \n",
       "2022-01-11  drink      153880           3017        1        9       35   \n",
       "...           ...         ...            ...      ...      ...      ...   \n",
       "2022-12-27  condo       20879           2012        0        2       17   \n",
       "2022-12-28  impel       20160           1937        0        3       21   \n",
       "2022-12-29  havoc       20001           1919        0        2       16   \n",
       "2022-12-30  molar       21204           1973        0        4       21   \n",
       "2022-12-31  manly       20380           1899        0        2       17   \n",
       "\n",
       "            trial_4  trial_5  trial_6  trial_x       h/t  \n",
       "date                                                      \n",
       "2022-01-07       39       24        9        1  0.016892  \n",
       "2022-01-08       31       24       14        2  0.017369  \n",
       "2022-01-09       27       30       22        4  0.020912  \n",
       "2022-01-10       30       30       17        2  0.020927  \n",
       "2022-01-11       34       16        5        1  0.019606  \n",
       "...             ...      ...      ...      ...       ...  \n",
       "2022-12-27       35       29       14        3  0.096365  \n",
       "2022-12-28       40       25        9        1  0.096081  \n",
       "2022-12-29       38       30       12        2  0.095945  \n",
       "2022-12-30       38       26        9        1  0.093048  \n",
       "2022-12-31       37       29       12        2  0.093180  \n",
       "\n",
       "[359 rows x 11 columns]"
      ]
     },
     "execution_count": 72,
     "metadata": {},
     "output_type": "execute_result"
    }
   ],
   "source": [
    "df = pd.read_excel(\"./dataset/wordle_data.xlsx\", index_col=0, usecols=\"A,C,D,E,F:L\")\n",
    "df[\"h/t\"] = df[\"hard_mode_num\"] / df[\"result_num\"]\n",
    "df = df.sort_index()\n",
    "df"
   ]
  },
  {
   "attachments": {},
   "cell_type": "markdown",
   "metadata": {},
   "source": [
    "We would need to normalize the percentage of scores reported that were played in Hard Mode to $[0,1]$."
   ]
  },
  {
   "cell_type": "code",
   "execution_count": 73,
   "metadata": {},
   "outputs": [],
   "source": [
    "orimin, orimax = df[\"h/t\"].min(), df[\"h/t\"].max()\n",
    "df[\"h/t\"] = (df[\"h/t\"] - orimin) / (orimax - orimin)"
   ]
  },
  {
   "attachments": {},
   "cell_type": "markdown",
   "metadata": {},
   "source": [
    "### Repeatedness of characters (ROC)\n",
    "\n",
    "We define the ROC of a word by calculating the information entropy of characters in a word, such that\n",
    "\n",
    "$$ H(X):=-\\sum _{x\\in\\mathcal{X}}p(x)\\log p(x)=\\mathbb{E}[-\\log p(X)]. $$"
   ]
  },
  {
   "cell_type": "code",
   "execution_count": 74,
   "metadata": {},
   "outputs": [],
   "source": [
    "def charCount(s):\n",
    "    dic = {}\n",
    "    for ch in s:\n",
    "        try:\n",
    "            dic[ch] += 1\n",
    "        except KeyError:\n",
    "            dic[ch] = 1\n",
    "    return dic\n",
    "\n",
    "def calc_ROC(s): \n",
    "    dic = charCount(s)\n",
    "    l = [val for val in dic.values()]\n",
    "    return stats.entropy(l)"
   ]
  },
  {
   "attachments": {},
   "cell_type": "markdown",
   "metadata": {},
   "source": [
    "ROC increases as the repeatedness of letters in a character drops."
   ]
  },
  {
   "cell_type": "code",
   "execution_count": 75,
   "metadata": {},
   "outputs": [
    {
     "name": "stdout",
     "output_type": "stream",
     "text": [
      "ROC of mummy: 0.9502705392332347\n",
      "ROC of apple: 1.3321790402101223\n",
      "ROC of audio: 1.6094379124341005\n"
     ]
    }
   ],
   "source": [
    "print(\"ROC of mummy:\", calc_ROC(\"mummy\"))\n",
    "print(\"ROC of apple:\", calc_ROC(\"apple\"))\n",
    "print(\"ROC of audio:\", calc_ROC(\"audio\"))"
   ]
  },
  {
   "attachments": {},
   "cell_type": "markdown",
   "metadata": {},
   "source": [
    "### Percentage of Vowels (POV)\n",
    "\n",
    "We define the POV of a word by calculating the percentage of vowel characters in a word."
   ]
  },
  {
   "cell_type": "code",
   "execution_count": 76,
   "metadata": {},
   "outputs": [],
   "source": [
    "def calc_POV(s):\n",
    "    I2 = 0\n",
    "    for c in s:\n",
    "        if c in [\"a\", \"e\", \"i\", \"o\", \"u\"]: I2 += 1\n",
    "    return I2 / 5"
   ]
  },
  {
   "attachments": {},
   "cell_type": "markdown",
   "metadata": {},
   "source": [
    "POC increases and the percentage of vowels in a word increases."
   ]
  },
  {
   "cell_type": "code",
   "execution_count": 77,
   "metadata": {},
   "outputs": [
    {
     "name": "stdout",
     "output_type": "stream",
     "text": [
      "POV of mummy: 0.2\n",
      "POV of apple: 0.4\n",
      "POV of audio: 0.8\n"
     ]
    }
   ],
   "source": [
    "print(\"POV of mummy:\", calc_POV(\"mummy\"))\n",
    "print(\"POV of apple:\", calc_POV(\"apple\"))\n",
    "print(\"POV of audio:\", calc_POV(\"audio\"))"
   ]
  },
  {
   "attachments": {},
   "cell_type": "markdown",
   "metadata": {},
   "source": [
    "### Expectation of yellow hit (EYH) and expectation of green hit (EGH)\n",
    "\n",
    "*Any formal mathematical definition? @Linyi*\n",
    "\n",
    "To calculate these attributes, we pulled a wordbank from NYTimes. In our model, a native speaker would randomly pull a word from wordbank and put it in the game. EYH would be the expected number of yellow tiles(different yellow tiles with same character doesn't count), whereas EGH would be the expected number of green tiles, when the wordle game gives him feedback."
   ]
  },
  {
   "cell_type": "code",
   "execution_count": 78,
   "metadata": {},
   "outputs": [],
   "source": [
    "totWords = 2309\n",
    "charRank = {'a': 906, 'b': 266, 'c': 446, 'd': 370, 'e': 1053, 'f': 206, 'g': 299, 'h': 377, 'i': 646, \\\n",
    "            'j': 27, 'k': 202, 'l': 645, 'm': 298, 'n': 548, 'o': 672, 'p': 345, 'q': 29, 'r': 835, \\\n",
    "            's': 617, 't': 667, 'u': 456, 'v': 148, 'w': 193, 'x': 37, 'y': 416, 'z': 35}\n",
    "charRankByPos = [{'a': 140, 'b': 173, 'c': 198, 'd': 111, 'e': 72, 'f': 135, 'g': 115, 'h': 69, \\\n",
    "                  'i': 34, 'j': 20, 'k': 20, 'l': 87, 'm': 107, 'n': 37, 'o': 41, 'p': 141, 'q': 23, \\\n",
    "                  'r': 105, 's': 365, 't': 149, 'u': 33, 'v': 43, 'w': 82, 'y': 6, 'z': 3}, \\\n",
    "                 {'a': 304, 'b': 16, 'c': 40, 'd': 20, 'e': 241, 'f': 8, 'g': 11, 'h': 144, 'i': 201, 'j': 2, \\\n",
    "                  'k': 10, 'l': 200, 'm': 38, 'n': 87, 'o': 279, 'p': 61, 'q': 5, 'r': 267, 's': 16, 't': 77, \\\n",
    "                  'u': 185, 'v': 15, 'w': 44, 'x': 14, 'y': 22, 'z': 2}, {'a': 306, 'b': 56, 'c': 56, 'd': 75, \\\n",
    "                  'e': 177, 'f': 25, 'g': 67, 'h': 9, 'i': 266, 'j': 3, 'k': 12, 'l': 112, 'm': 61, 'n': 137, 'o': 243, \\\n",
    "                  'p': 57, 'q': 1, 'r': 163, 's': 80, 't': 111, 'u': 165, 'v': 49, 'w': 26, 'x': 12, 'y': 29, 'z': 11}, \\\n",
    "                 {'a': 162, 'b': 24, 'c': 150, 'd': 69, 'e': 318, 'f': 35, 'g': 76, 'h': 28, 'i': 158, 'j': 2, \\\n",
    "                  'k': 55, 'l': 162, 'm': 68, 'n': 182, 'o': 132, 'p': 50, 'r': 150, 's': 171, 't': 139, 'u': 82, \\\n",
    "                  'v': 45, 'w': 25, 'x': 3, 'y': 3, 'z': 20}, {'a': 63, 'b': 11, 'c': 31, 'd': 118, 'e': 422, 'f': 26, \\\n",
    "                  'g': 41, 'h': 137, 'i': 11, 'k': 113, 'l': 155, 'm': 42, 'n': 130, 'o': 58, 'p': 56, 'r': 212, 's': 36, \\\n",
    "                  't': 253, 'u': 1, 'w': 17, 'x': 8, 'y': 364, 'z': 4}]"
   ]
  },
  {
   "cell_type": "code",
   "execution_count": 79,
   "metadata": {},
   "outputs": [],
   "source": [
    "def calc_rank():\n",
    "    with open(\"./dataset/wordle_wordbank.txt\") as f:\n",
    "        lines = f.readlines()\n",
    "    print(len(lines))\n",
    "    lines = [s.strip()for s in lines]\n",
    "    dic = {}\n",
    "    dic2 = [{} for _ in range(5)]\n",
    "    for s in lines:\n",
    "        for c in set(s.lower()):\n",
    "            try: dic[c] += 1\n",
    "            except KeyError: dic[c] = 1\n",
    "        for i, c in enumerate(s):\n",
    "            try: dic2[i][c] += 1\n",
    "            except KeyError: dic2[i][c] = 1\n",
    "    return dict(sorted(dic.items())), [dict(sorted(dic2[i].items())) for i in range(5)]\n",
    "\n",
    "def calc_EYH(s):\n",
    "    I3 = 0\n",
    "    for c in set(s):\n",
    "        I3 += charRank[c] / totWords\n",
    "    return I3\n",
    "\n",
    "# I3G is expectation of green hits\n",
    "def calc_EGH(s):\n",
    "    I3 = 0\n",
    "    for i, c in enumerate(s):\n",
    "        I3 += charRankByPos[i][c] / totWords\n",
    "    return I3"
   ]
  },
  {
   "attachments": {},
   "cell_type": "markdown",
   "metadata": {},
   "source": [
    "*Any further explanation of the EYH and EGH? For instance, how to correlates with the easiness of a guess, etc. @Linyi*"
   ]
  },
  {
   "cell_type": "code",
   "execution_count": 80,
   "metadata": {},
   "outputs": [
    {
     "name": "stdout",
     "output_type": "stream",
     "text": [
      "mummy: EYH = 0.5067128627111304, EGH = 0.33997401472498917\n",
      "apple: EYH = 1.277176266782157, EGH = 0.364660025985275\n",
      "audio: EYH = 1.3209181463837159, EGH = 0.2667821567778259\n"
     ]
    }
   ],
   "source": [
    "print(\"mummy: EYH = {}, EGH = {}\".format(calc_EYH(\"mummy\"), calc_EGH(\"mummy\")))\n",
    "print(\"apple: EYH = {}, EGH = {}\".format(calc_EYH(\"apple\"), calc_EGH(\"apple\")))\n",
    "print(\"audio: EYH = {}, EGH = {}\".format(calc_EYH(\"audio\"), calc_EGH(\"audio\")))"
   ]
  },
  {
   "attachments": {},
   "cell_type": "markdown",
   "metadata": {},
   "source": [
    "### Check the correlation"
   ]
  },
  {
   "cell_type": "code",
   "execution_count": 81,
   "metadata": {},
   "outputs": [
    {
     "data": {
      "text/html": [
       "<div>\n",
       "<style scoped>\n",
       "    .dataframe tbody tr th:only-of-type {\n",
       "        vertical-align: middle;\n",
       "    }\n",
       "\n",
       "    .dataframe tbody tr th {\n",
       "        vertical-align: top;\n",
       "    }\n",
       "\n",
       "    .dataframe thead th {\n",
       "        text-align: right;\n",
       "    }\n",
       "</style>\n",
       "<table border=\"1\" class=\"dataframe\">\n",
       "  <thead>\n",
       "    <tr style=\"text-align: right;\">\n",
       "      <th></th>\n",
       "      <th>ROC</th>\n",
       "      <th>POV</th>\n",
       "      <th>EYH</th>\n",
       "      <th>EGH</th>\n",
       "    </tr>\n",
       "  </thead>\n",
       "  <tbody>\n",
       "    <tr>\n",
       "      <th>trial_1</th>\n",
       "      <td>0.222949</td>\n",
       "      <td>0.085566</td>\n",
       "      <td>0.338521</td>\n",
       "      <td>0.280004</td>\n",
       "    </tr>\n",
       "    <tr>\n",
       "      <th>trial_2</th>\n",
       "      <td>0.362358</td>\n",
       "      <td>0.125828</td>\n",
       "      <td>0.580781</td>\n",
       "      <td>0.335103</td>\n",
       "    </tr>\n",
       "    <tr>\n",
       "      <th>trial_3</th>\n",
       "      <td>0.432937</td>\n",
       "      <td>0.006557</td>\n",
       "      <td>0.501621</td>\n",
       "      <td>0.172001</td>\n",
       "    </tr>\n",
       "    <tr>\n",
       "      <th>trial_4</th>\n",
       "      <td>0.098531</td>\n",
       "      <td>-0.104577</td>\n",
       "      <td>-0.116221</td>\n",
       "      <td>-0.311545</td>\n",
       "    </tr>\n",
       "    <tr>\n",
       "      <th>trial_5</th>\n",
       "      <td>-0.419158</td>\n",
       "      <td>0.034670</td>\n",
       "      <td>-0.521995</td>\n",
       "      <td>-0.259876</td>\n",
       "    </tr>\n",
       "    <tr>\n",
       "      <th>trial_6</th>\n",
       "      <td>-0.361306</td>\n",
       "      <td>-0.005921</td>\n",
       "      <td>-0.368545</td>\n",
       "      <td>-0.011690</td>\n",
       "    </tr>\n",
       "    <tr>\n",
       "      <th>trial_x</th>\n",
       "      <td>-0.202787</td>\n",
       "      <td>-0.046894</td>\n",
       "      <td>-0.123720</td>\n",
       "      <td>0.099137</td>\n",
       "    </tr>\n",
       "    <tr>\n",
       "      <th>h/t</th>\n",
       "      <td>-0.081527</td>\n",
       "      <td>0.079484</td>\n",
       "      <td>-0.039814</td>\n",
       "      <td>-0.119932</td>\n",
       "    </tr>\n",
       "  </tbody>\n",
       "</table>\n",
       "</div>"
      ],
      "text/plain": [
       "              ROC       POV       EYH       EGH\n",
       "trial_1  0.222949  0.085566  0.338521  0.280004\n",
       "trial_2  0.362358  0.125828  0.580781  0.335103\n",
       "trial_3  0.432937  0.006557  0.501621  0.172001\n",
       "trial_4  0.098531 -0.104577 -0.116221 -0.311545\n",
       "trial_5 -0.419158  0.034670 -0.521995 -0.259876\n",
       "trial_6 -0.361306 -0.005921 -0.368545 -0.011690\n",
       "trial_x -0.202787 -0.046894 -0.123720  0.099137\n",
       "h/t     -0.081527  0.079484 -0.039814 -0.119932"
      ]
     },
     "execution_count": 81,
     "metadata": {},
     "output_type": "execute_result"
    }
   ],
   "source": [
    "def get_result(df, func_name, row_name):\n",
    "    valAttrib = [func_name(word.strip()) for word in df[\"word\"]]\n",
    "    res = np.asarray(df[row_name])\n",
    "    pearson = np.corrcoef(valAttrib, res)\n",
    "    # plt.scatter(valAttrib, res)\n",
    "    # plt.show()\n",
    "    return pearson[0][1]\n",
    "\n",
    "cols = [\"trial_\" + str(i) for i in range(1, 7)] + [\"trial_x\"] + [\"h/t\"]\n",
    "attribs = [calc_ROC, calc_POV, calc_EYH, calc_EGH]\n",
    "dic = {}\n",
    "for attrib in attribs: \n",
    "    l = []\n",
    "    for colname in cols:\n",
    "        l.append(get_result(df, attrib, colname))\n",
    "    dic[attrib.__name__[5:]] = l\n",
    "res = pd.DataFrame(dic, index = cols)\n",
    "res"
   ]
  },
  {
   "attachments": {},
   "cell_type": "markdown",
   "metadata": {},
   "source": [
    "*Any possibility of visualizing these data? @Linyi*\n"
   ]
  },
  {
   "attachments": {},
   "cell_type": "markdown",
   "metadata": {},
   "source": [
    "Here we visualize the correlation between H/T and word attributes by drawing some subplots."
   ]
  },
  {
   "cell_type": "code",
   "execution_count": 82,
   "metadata": {},
   "outputs": [
    {
     "data": {
      "image/png": "[encoded data removed]",
      "text/plain": [
       "<Figure size 800x800 with 4 Axes>"
      ]
     },
     "metadata": {},
     "output_type": "display_data"
    }
   ],
   "source": [
    "fig, axs = plt.subplots(2, 2, figsize = (8, 8), sharey = True)\n",
    "axs = axs.reshape((4, ))\n",
    "\n",
    "\n",
    "def plotAttrib(col):\n",
    "    def loadPlots(df, func_name, i):\n",
    "        valAttrib = [func_name(word.strip()) for word in df[\"word\"]]\n",
    "        res = np.asarray(df[col])\n",
    "        # low_x, high_x = valAttrib.get_xlim()\n",
    "        # print(res.max())\n",
    "        axs[i].scatter(valAttrib, res)\n",
    "        axs[i].set_xlabel(func_name.__name__[5:], fontweight=\"bold\")\n",
    "        \n",
    "    loadPlots(df, calc_ROC, 0), loadPlots(df, calc_POV, 1), loadPlots(df, calc_EYH, 2), loadPlots(df, calc_EGH, 3)\n",
    "    explain_of_col = 'Percentage of 2 Trials'\n",
    "    axs[0].set_ylabel(explain_of_col, fontweight=\"bold\")\n",
    "    axs[2].set_ylabel(explain_of_col, fontweight=\"bold\")\n",
    "\n",
    "    fig.suptitle(col)\n",
    "plotAttrib('trial_2')"
   ]
  }
 ],
 "metadata": {
  "kernelspec": {
   "display_name": ".venv",
   "language": "python",
   "name": "python3"
  },
  "language_info": {
   "codemirror_mode": {
    "name": "ipython",
    "version": 3
   },
   "file_extension": ".py",
   "mimetype": "text/x-python",
   "name": "python",
   "nbconvert_exporter": "python",
   "pygments_lexer": "ipython3",
   "version": "3.10.10"
  },
  "orig_nbformat": 4,
  "vscode": {
   "interpreter": {
    "hash": "a18a19eef9b5b24989367429c441a69accedc5bada5c1cddbdc050dc5bf0da82"
   }
  }
 },
 "nbformat": 4,
 "nbformat_minor": 2
}
