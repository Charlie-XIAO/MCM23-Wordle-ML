{
 "cells": [
  {
   "attachments": {},
   "cell_type": "markdown",
   "metadata": {},
   "source": [
    "## Problem Statement\n",
    "\n",
    "For a given future solution word on a future date, develop a model that allows you to predict the distribution of the reported results. In other words, to predict the associated percentages of (1, 2, 3, 4, 5, 6, X) for a future date. What uncertainties are associated with your model and predictions? Give a specific example of your prediction for the word EERIE on March 1, 2023. How confident are you in your model’s prediction?"
   ]
  },
  {
   "cell_type": "code",
   "execution_count": 2,
   "metadata": {},
   "outputs": [],
   "source": [
    "import numpy as np\n",
    "import pandas as pd\n",
    "import matplotlib.pyplot as plt\n",
    "import scipy.stats as stats\n",
    "from sklearn.model_selection import train_test_split\n",
    "from sklearn.ensemble import RandomForestRegressor"
   ]
  },
  {
   "cell_type": "code",
   "execution_count": 3,
   "metadata": {},
   "outputs": [],
   "source": [
    "totWords = 2309\n",
    "charRank = {'a': 906, 'b': 266, 'c': 446, 'd': 370, 'e': 1053, 'f': 206, 'g': 299, 'h': 377, 'i': 646, \\\n",
    "            'j': 27, 'k': 202, 'l': 645, 'm': 298, 'n': 548, 'o': 672, 'p': 345, 'q': 29, 'r': 835, \\\n",
    "            's': 617, 't': 667, 'u': 456, 'v': 148, 'w': 193, 'x': 37, 'y': 416, 'z': 35}\n",
    "charRankByPos = [{'a': 140, 'b': 173, 'c': 198, 'd': 111, 'e': 72, 'f': 135, 'g': 115, 'h': 69, \\\n",
    "                  'i': 34, 'j': 20, 'k': 20, 'l': 87, 'm': 107, 'n': 37, 'o': 41, 'p': 141, 'q': 23, \\\n",
    "                  'r': 105, 's': 365, 't': 149, 'u': 33, 'v': 43, 'w': 82, 'y': 6, 'z': 3}, \\\n",
    "                 {'a': 304, 'b': 16, 'c': 40, 'd': 20, 'e': 241, 'f': 8, 'g': 11, 'h': 144, 'i': 201, 'j': 2, \\\n",
    "                  'k': 10, 'l': 200, 'm': 38, 'n': 87, 'o': 279, 'p': 61, 'q': 5, 'r': 267, 's': 16, 't': 77, \\\n",
    "                  'u': 185, 'v': 15, 'w': 44, 'x': 14, 'y': 22, 'z': 2}, {'a': 306, 'b': 56, 'c': 56, 'd': 75, \\\n",
    "                  'e': 177, 'f': 25, 'g': 67, 'h': 9, 'i': 266, 'j': 3, 'k': 12, 'l': 112, 'm': 61, 'n': 137, 'o': 243, \\\n",
    "                  'p': 57, 'q': 1, 'r': 163, 's': 80, 't': 111, 'u': 165, 'v': 49, 'w': 26, 'x': 12, 'y': 29, 'z': 11}, \\\n",
    "                 {'a': 162, 'b': 24, 'c': 150, 'd': 69, 'e': 318, 'f': 35, 'g': 76, 'h': 28, 'i': 158, 'j': 2, \\\n",
    "                  'k': 55, 'l': 162, 'm': 68, 'n': 182, 'o': 132, 'p': 50, 'r': 150, 's': 171, 't': 139, 'u': 82, \\\n",
    "                  'v': 45, 'w': 25, 'x': 3, 'y': 3, 'z': 20}, {'a': 63, 'b': 11, 'c': 31, 'd': 118, 'e': 422, 'f': 26, \\\n",
    "                  'g': 41, 'h': 137, 'i': 11, 'k': 113, 'l': 155, 'm': 42, 'n': 130, 'o': 58, 'p': 56, 'r': 212, 's': 36, \\\n",
    "                  't': 253, 'u': 1, 'w': 17, 'x': 8, 'y': 364, 'z': 4}]\n",
    "\n",
    "def charCount(s):\n",
    "    dic = {}\n",
    "    for ch in s:\n",
    "        try:\n",
    "            dic[ch] += 1\n",
    "        except KeyError:\n",
    "            dic[ch] = 1\n",
    "    return dic\n",
    "\n",
    "def calc_roc(s): \n",
    "    dic = charCount(s)\n",
    "    l = [val for val in dic.values()]\n",
    "    return stats.entropy(l)\n",
    "\n",
    "def calc_pov(s):\n",
    "    I2 = 0\n",
    "    for c in s:\n",
    "        if c in [\"a\", \"e\", \"i\", \"o\", \"u\"]: I2 += 1\n",
    "    return I2 / 5\n",
    "\n",
    "def calc_rank():\n",
    "    with open(\"./dataset/wordle_wordbank.txt\") as f:\n",
    "        lines = f.readlines()\n",
    "    print(len(lines))\n",
    "    lines = [s.strip() for s in lines]\n",
    "    dic = {}\n",
    "    dic2 = [{} for _ in range(5)]\n",
    "    for s in lines:\n",
    "        for c in set(s.lower()):\n",
    "            try: dic[c] += 1\n",
    "            except KeyError: dic[c] = 1\n",
    "        for i, c in enumerate(s):\n",
    "            try: dic2[i][c] += 1\n",
    "            except KeyError: dic2[i][c] = 1\n",
    "    return dict(sorted(dic.items())), [dict(sorted(dic2[i].items())) for i in range(5)]\n",
    "\n",
    "def calc_EYH(s):\n",
    "    I3 = 0\n",
    "    for c in set(s):\n",
    "        I3 += charRank[c] / totWords\n",
    "    return I3\n",
    "\n",
    "# I3G is expectation of green hits\n",
    "def calc_EGH(s):\n",
    "    I3 = 0\n",
    "    for i, c in enumerate(s):\n",
    "        I3 += charRankByPos[i][c] / totWords\n",
    "    return I3"
   ]
  },
  {
   "attachments": {},
   "cell_type": "markdown",
   "metadata": {},
   "source": [
    "First, read the dates and the corresponding data."
   ]
  },
  {
   "cell_type": "code",
   "execution_count": 4,
   "metadata": {},
   "outputs": [],
   "source": [
    "df = pd.read_excel(\"./dataset/wordle_data.xlsx\", index_col=0, usecols=\"A,C,F:L\")\n",
    "df = df.sort_index()"
   ]
  },
  {
   "attachments": {},
   "cell_type": "markdown",
   "metadata": {},
   "source": [
    "Break down the words into characters, and transform a-z into 0-25."
   ]
  },
  {
   "cell_type": "code",
   "execution_count": 5,
   "metadata": {},
   "outputs": [],
   "source": [
    "df_chars = pd.DataFrame(index=df.index, data=[[ord(c) - 97 for c in ch] for ch in df[\"word\"].apply(func=list).values], columns=[\"ch1\", \"ch2\", \"ch3\", \"ch4\", \"ch5\"])\n",
    "df[df_chars.columns] = df_chars"
   ]
  },
  {
   "attachments": {},
   "cell_type": "markdown",
   "metadata": {},
   "source": [
    "ROC, EYH, and EGH are validated as correlating (at least moderately) to the distribution of the number of trials."
   ]
  },
  {
   "cell_type": "code",
   "execution_count": 6,
   "metadata": {},
   "outputs": [],
   "source": [
    "df[\"ROC\"] = [calc_roc(word) for word in df[\"word\"]]\n",
    "df[\"EYH\"] = [calc_EYH(word) for word in df[\"word\"]]\n",
    "df[\"EGH\"] = [calc_EGH(word) for word in df[\"word\"]]"
   ]
  },
  {
   "attachments": {},
   "cell_type": "markdown",
   "metadata": {},
   "source": [
    "Now we need to split the data into a training set and a testing set, and determine the input attributes and output attributes."
   ]
  },
  {
   "cell_type": "code",
   "execution_count": 7,
   "metadata": {},
   "outputs": [
    {
     "name": "stdout",
     "output_type": "stream",
     "text": [
      "Training set: (269, 8)\n",
      "Testing set: (90, 8)\n"
     ]
    }
   ],
   "source": [
    "output_attrs = [\"trial_1\", \"trial_2\", \"trial_3\", \"trial_4\", \"trial_5\", \"trial_6\", \"trial_x\"]\n",
    "input_attrs = [\"ch1\", \"ch2\", \"ch3\", \"ch4\", \"ch5\", \"ROC\", \"EYH\", \"EGH\"]\n",
    "X_train, X_test, y_train, y_test = train_test_split(df[input_attrs], df[output_attrs], test_size=0.25, random_state=1)\n",
    "print(\"Training set:\", X_train.shape)\n",
    "print(\"Testing set:\", X_test.shape)"
   ]
  },
  {
   "attachments": {},
   "cell_type": "markdown",
   "metadata": {},
   "source": [
    "### Random Forest Regression"
   ]
  },
  {
   "attachments": {},
   "cell_type": "markdown",
   "metadata": {},
   "source": [
    "Validate the model using mean absolute error."
   ]
  },
  {
   "cell_type": "code",
   "execution_count": 8,
   "metadata": {},
   "outputs": [
    {
     "name": "stdout",
     "output_type": "stream",
     "text": [
      "Mean absolute error (trial_1): train = 0.4387, test = 0.4000\n",
      "Mean absolute error (trial_2): train = 1.8736, test = 3.0111\n",
      "Mean absolute error (trial_3): train = 4.2639, test = 5.5778\n",
      "Mean absolute error (trial_4): train = 3.4424, test = 3.6222\n",
      "Mean absolute error (trial_5): train = 3.2639, test = 4.5000\n",
      "Mean absolute error (trial_6): train = 3.6506, test = 4.0556\n",
      "Mean absolute error (trial_x): train = 1.7063, test = 2.3333\n"
     ]
    }
   ],
   "source": [
    "rand_forest = RandomForestRegressor(n_estimators=500, max_depth=4, random_state=1)\n",
    "rand_forest.fit(X_train, y_train)\n",
    "rf_train = np.round(rand_forest.predict(X_train))\n",
    "rf_test = np.round(rand_forest.predict(X_test))\n",
    "maes_train = np.mean(np.absolute(rf_train - y_train.to_numpy()), axis=0)\n",
    "maes_test = np.mean(np.absolute(rf_test - y_test.to_numpy()), axis=0)\n",
    "for i in range(len(maes_train)):\n",
    "    print(\"Mean absolute error ({}): train = {:.4f}, test = {:.4f}\".format(output_attrs[i], maes_train[i], maes_test[i]))"
   ]
  },
  {
   "attachments": {},
   "cell_type": "markdown",
   "metadata": {},
   "source": [
    "Initialize the input attributes of the target word EERIE, retrain the same model on the using the whole dataset, and make the corresponding prediction."
   ]
  },
  {
   "cell_type": "code",
   "execution_count": 9,
   "metadata": {},
   "outputs": [
    {
     "name": "stdout",
     "output_type": "stream",
     "text": [
      "trial_1: 0%\n",
      "trial_2: 4%\n",
      "trial_3: 18%\n",
      "trial_4: 32%\n",
      "trial_5: 27%\n",
      "trial_6: 15%\n",
      "trial_x: 4%\n",
      "Sum: 100%\n"
     ]
    }
   ],
   "source": [
    "eerie_attrs = {\"ch1\": ord(\"e\") - 97, \"ch2\": ord(\"e\") - 97, \"ch3\": ord(\"r\") - 97, \"ch4\": ord(\"i\") - 97, \"ch5\": ord(\"e\") - 97, \\\n",
    "               \"ROC\": calc_roc(\"eerie\"), \"EYH\": calc_EYH(\"eerie\"), \"EGH\": calc_EGH(\"eerie\")}\n",
    "rand_forest_final = RandomForestRegressor(n_estimators=500, max_depth=4, random_state=1)\n",
    "rand_forest_final.fit(df[input_attrs], df[output_attrs])\n",
    "X_pred = pd.DataFrame(index=[pd.to_datetime(\"2023/03/01\", format=\"%Y-%m-%d\")], data=eerie_attrs)\n",
    "y_pred = np.round(rand_forest_final.predict(X_pred)).reshape(-1)\n",
    "for i in range(len(output_attrs)):\n",
    "    print(\"{}: {:.0f}%\".format(output_attrs[i], y_pred[i]))\n",
    "print(\"Sum: {:.0f}%\".format(np.sum(y_pred)))"
   ]
  },
  {
   "attachments": {},
   "cell_type": "markdown",
   "metadata": {},
   "source": [
    "Plot the prediction result."
   ]
  },
  {
   "cell_type": "code",
   "execution_count": 10,
   "metadata": {},
   "outputs": [
    {
     "data": {
      "image/png": "[encoded data removed]",
      "text/plain": [
       "<Figure size 640x480 with 1 Axes>"
      ]
     },
     "metadata": {},
     "output_type": "display_data"
    }
   ],
   "source": [
    "plt.bar([\"1\", \"2\", \"3\", \"4\", \"5\", \"6\", \"X\"], y_pred)\n",
    "for i, v in enumerate(y_pred):\n",
    "    plt.text(x=i-0.2, y=v+0.2, s=\"{:.0f}%\".format(v) , fontdict=dict(fontsize=10))\n",
    "plt.xlabel(\"Number of trials\")\n",
    "plt.ylabel(\"Percentage\")\n",
    "plt.show()"
   ]
  }
 ],
 "metadata": {
  "kernelspec": {
   "display_name": ".venv",
   "language": "python",
   "name": "python3"
  },
  "language_info": {
   "codemirror_mode": {
    "name": "ipython",
    "version": 3
   },
   "file_extension": ".py",
   "mimetype": "text/x-python",
   "name": "python",
   "nbconvert_exporter": "python",
   "pygments_lexer": "ipython3",
   "version": "3.9.6"
  },
  "orig_nbformat": 4,
  "vscode": {
   "interpreter": {
    "hash": "fec3e7d24dd26d4741ecd66e0fb7094705806a0205b22c2a5c5101ff21c51c58"
   }
  }
 },
 "nbformat": 4,
 "nbformat_minor": 2
}
