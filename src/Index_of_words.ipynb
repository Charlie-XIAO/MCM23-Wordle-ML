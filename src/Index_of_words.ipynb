{
 "cells": [
  {
   "attachments": {},
   "cell_type": "markdown",
   "metadata": {},
   "source": [
    "In this part of code, we will define several index of words. By these indexes we can furthermore analyze the difficulty of guessing the words. "
   ]
  },
  {
   "attachments": {},
   "cell_type": "markdown",
   "metadata": {},
   "source": [
    "# Index\n",
    "\n",
    "We will define several indexes of a word: I1, I2, I3, I4. That is: repeatedness of characters, percentage of vowels, rank of characters, and seperation of keyboard. "
   ]
  },
  {
   "cell_type": "code",
   "execution_count": 5,
   "metadata": {},
   "outputs": [],
   "source": [
    "import numpy as np\n",
    "import pandas as pd\n",
    "import scipy.stats as stats"
   ]
  },
  {
   "attachments": {},
   "cell_type": "markdown",
   "metadata": {},
   "source": [
    "## I1\n",
    "repeatedness of characters. We define them by calculating the information entropy of characters in a word.\n",
    "\n",
    "$\\displaystyle \\mathrm {H} (X):=-\\sum _{x\\in {\\mathcal {X}}}p(x)\\log p(x)=\\mathbb {E} [-\\log p(X)]$"
   ]
  },
  {
   "cell_type": "code",
   "execution_count": 6,
   "metadata": {},
   "outputs": [
    {
     "name": "stdout",
     "output_type": "stream",
     "text": [
      "0.9502705392332347 1.3321790402101223 1.6094379124341005\n"
     ]
    }
   ],
   "source": [
    "# returns I1. s is the word.\n",
    "def charCount(s):\n",
    "    dic = {}\n",
    "    for ch in s:\n",
    "        try:\n",
    "            dic[ch] += 1\n",
    "        except KeyError:\n",
    "            dic[ch] = 1\n",
    "    return dic\n",
    "\n",
    "def calc_I1(s): \n",
    "    dic = charCount(s)\n",
    "    l = [val for val in dic.values()]\n",
    "    return stats.entropy(l) # will normalize\n",
    "\n",
    "\n",
    "# I1 gets bigger when the repeadness of a word is lower. \n",
    "print(calc_I1('mummy'), calc_I1('apple'), calc_I1('audio'))"
   ]
  },
  {
   "attachments": {},
   "cell_type": "markdown",
   "metadata": {},
   "source": [
    "## I2 \n",
    "percentage of vowels. We define them by calculating the percentage of vowel characters in a word.\n"
   ]
  },
  {
   "cell_type": "code",
   "execution_count": 7,
   "metadata": {},
   "outputs": [
    {
     "name": "stdout",
     "output_type": "stream",
     "text": [
      "0.2 0.4 0.8\n"
     ]
    }
   ],
   "source": [
    "def calc_I2(s): \n",
    "    dic = charCount(s)\n",
    "    I2 = 0\n",
    "    for c in s:\n",
    "        if c in ['a', 'e', 'i', 'o', 'u']: I2 += 1\n",
    "    return I2 / 5\n",
    "\n",
    "# I2 counts percentage of vowel characters in a word. \n",
    "print(calc_I2('mummy'), calc_I2('apple'), calc_I2('audio'))"
   ]
  },
  {
   "attachments": {},
   "cell_type": "markdown",
   "metadata": {},
   "source": [
    "# I3 \n",
    "Expectation of Yellow Hit and Green Hit."
   ]
  },
  {
   "cell_type": "code",
   "execution_count": 8,
   "metadata": {},
   "outputs": [
    {
     "name": "stdout",
     "output_type": "stream",
     "text": [
      "2309\n",
      "({'a': 906, 'b': 266, 'c': 446, 'd': 370, 'e': 1053, 'f': 206, 'g': 299, 'h': 377, 'i': 646, 'j': 27, 'k': 202, 'l': 645, 'm': 298, 'n': 548, 'o': 672, 'p': 345, 'q': 29, 'r': 835, 's': 617, 't': 667, 'u': 456, 'v': 148, 'w': 193, 'x': 37, 'y': 416, 'z': 35}, [{'a': 140, 'b': 173, 'c': 198, 'd': 111, 'e': 72, 'f': 135, 'g': 115, 'h': 69, 'i': 34, 'j': 20, 'k': 20, 'l': 87, 'm': 107, 'n': 37, 'o': 41, 'p': 141, 'q': 23, 'r': 105, 's': 365, 't': 149, 'u': 33, 'v': 43, 'w': 82, 'y': 6, 'z': 3}, {'a': 304, 'b': 16, 'c': 40, 'd': 20, 'e': 241, 'f': 8, 'g': 11, 'h': 144, 'i': 201, 'j': 2, 'k': 10, 'l': 200, 'm': 38, 'n': 87, 'o': 279, 'p': 61, 'q': 5, 'r': 267, 's': 16, 't': 77, 'u': 185, 'v': 15, 'w': 44, 'x': 14, 'y': 22, 'z': 2}, {'a': 306, 'b': 56, 'c': 56, 'd': 75, 'e': 177, 'f': 25, 'g': 67, 'h': 9, 'i': 266, 'j': 3, 'k': 12, 'l': 112, 'm': 61, 'n': 137, 'o': 243, 'p': 57, 'q': 1, 'r': 163, 's': 80, 't': 111, 'u': 165, 'v': 49, 'w': 26, 'x': 12, 'y': 29, 'z': 11}, {'a': 162, 'b': 24, 'c': 150, 'd': 69, 'e': 318, 'f': 35, 'g': 76, 'h': 28, 'i': 158, 'j': 2, 'k': 55, 'l': 162, 'm': 68, 'n': 182, 'o': 132, 'p': 50, 'r': 150, 's': 171, 't': 139, 'u': 82, 'v': 45, 'w': 25, 'x': 3, 'y': 3, 'z': 20}, {'a': 63, 'b': 11, 'c': 31, 'd': 118, 'e': 422, 'f': 26, 'g': 41, 'h': 137, 'i': 11, 'k': 113, 'l': 155, 'm': 42, 'n': 130, 'o': 58, 'p': 56, 'r': 212, 's': 36, 't': 253, 'u': 1, 'w': 17, 'x': 8, 'y': 364, 'z': 4}])\n"
     ]
    }
   ],
   "source": [
    "def calc_rank():\n",
    "    with open('./dataset/wordle_wordbank.txt') as f:\n",
    "        lines = f.readlines()\n",
    "    print(len(lines))\n",
    "    lines = [s.strip()for s in lines]\n",
    "    dic = {}\n",
    "    dic2 = [{} for i in range(5)]\n",
    "    for s in lines:\n",
    "        # print(s)\n",
    "        for c in set(s.lower()):\n",
    "            # print(ord(c) - ord('a'))\n",
    "            try: dic[c] += 1\n",
    "            except KeyError: dic[c] = 1\n",
    "        for i, c in enumerate(s):\n",
    "            try: dic2[i][c] += 1\n",
    "            except KeyError: dic2[i][c] = 1\n",
    "    return  dict(sorted(dic.items())), [dict(sorted(dic2[i].items())) for i in range(5)]\n",
    " \n",
    "print(calc_rank())"
   ]
  },
  {
   "cell_type": "code",
   "execution_count": 9,
   "metadata": {},
   "outputs": [
    {
     "name": "stdout",
     "output_type": "stream",
     "text": [
      "0.5067128627111304 1.2771762667821567 1.3209181463837159\n",
      "0.33997401472498917 0.364660025985275 0.2667821567778259\n"
     ]
    }
   ],
   "source": [
    "charRank, charRankByPos =   {'a': 906, 'b': 266, 'c': 446, 'd': 370, 'e': 1053, 'f': 206, 'g': 299, 'h': 377, 'i': 646, \\\n",
    "                             'j': 27, 'k': 202, 'l': 645, 'm': 298, 'n': 548, 'o': 672, 'p': 345, 'q': 29, 'r': 835,\\\n",
    "                                  's': 617, 't': 667, 'u': 456, 'v': 148, 'w': 193, 'x': 37, 'y': 416, 'z': 35}, \\\n",
    "                                    [{'a': 140, 'b': 173, 'c': 198, 'd': 111, 'e': 72, 'f': 135, 'g': 115, 'h': 69, \\\n",
    "                                      'i': 34, 'j': 20, 'k': 20, 'l': 87, 'm': 107, 'n': 37, 'o': 41, 'p': 141, 'q': 23,\\\n",
    "                                          'r': 105, 's': 365, 't': 149, 'u': 33, 'v': 43, 'w': 82, 'y': 6, 'z': 3},\\\n",
    "                                              {'a': 304, 'b': 16, 'c': 40, 'd': 20, 'e': 241, 'f': 8, 'g': 11, 'h': 144, 'i': 201, 'j': 2, 'k': 10, 'l': 200, 'm': 38, 'n': 87, 'o': 279, 'p': 61, 'q': 5, 'r': 267, 's': 16, 't': 77, 'u': 185, 'v': 15, 'w': 44, 'x': 14, 'y': 22, 'z': 2}, {'a': 306, 'b': 56, 'c': 56, 'd': 75, 'e': 177, 'f': 25, 'g': 67, 'h': 9, 'i': 266, 'j': 3, 'k': 12, 'l': 112, 'm': 61, 'n': 137, 'o': 243, 'p': 57, 'q': 1, 'r': 163, 's': 80, 't': 111, 'u': 165, 'v': 49, 'w': 26, 'x': 12, 'y': 29, 'z': 11}, {'a': 162, 'b': 24, 'c': 150, 'd': 69, 'e': 318, 'f': 35, 'g': 76, 'h': 28, 'i': 158, 'j': 2, 'k': 55, 'l': 162, 'm': 68, 'n': 182, 'o': 132, 'p': 50, 'r': 150, 's': 171, 't': 139, 'u': 82, 'v': 45, 'w': 25, 'x': 3, 'y': 3, 'z': 20}, {'a': 63, 'b': 11, 'c': 31, 'd': 118, 'e': 422, 'f': 26, 'g': 41, 'h': 137, 'i': 11, 'k': 113, 'l': 155, 'm': 42, 'n': 130, 'o': 58, 'p': 56, 'r': 212, 's': 36, 't': 253, 'u': 1, 'w': 17, 'x': 8, 'y': 364, 'z': 4}]\n",
    "totWords = 2309\n",
    "# I3Y is expectation of yellow hits (same letter doesn't count twice)\n",
    "def calc_I3Y(s):\n",
    "    I3 = 0\n",
    "    for c in set(s):\n",
    "        I3 += charRank[c] / totWords\n",
    "    return I3\n",
    "\n",
    "# I3 counts how easy can people guess correctly one character from the word\n",
    "print(calc_I3Y('mummy'), calc_I3Y('apple'), calc_I3Y('audio'))\n",
    "\n",
    "# I3G is expectation of green hits\n",
    "def calc_I3G(s):\n",
    "    I3 = 0\n",
    "    for i, c in enumerate(s):\n",
    "        I3 += charRankByPos[i][c] / totWords\n",
    "    return I3\n",
    "\n",
    "print(calc_I3G('mummy'), calc_I3G('apple'), calc_I3G('audio'))\n"
   ]
  }
 ],
 "metadata": {
  "kernelspec": {
   "display_name": ".venv",
   "language": "python",
   "name": "python3"
  },
  "language_info": {
   "codemirror_mode": {
    "name": "ipython",
    "version": 3
   },
   "file_extension": ".py",
   "mimetype": "text/x-python",
   "name": "python",
   "nbconvert_exporter": "python",
   "pygments_lexer": "ipython3",
   "version": "3.10.10"
  },
  "orig_nbformat": 4,
  "vscode": {
   "interpreter": {
    "hash": "a18a19eef9b5b24989367429c441a69accedc5bada5c1cddbdc050dc5bf0da82"
   }
  }
 },
 "nbformat": 4,
 "nbformat_minor": 2
}
