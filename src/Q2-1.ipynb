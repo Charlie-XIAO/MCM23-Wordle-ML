{
 "cells": [
  {
   "attachments": {},
   "cell_type": "markdown",
   "metadata": {},
   "source": [
    "## Problem Statement\n",
    "\n",
    "For a given future solution word on a future date, develop a model that allows you to predict the distribution of the reported results. In other words, to predict the associated percentages of (1, 2, 3, 4, 5, 6, X) for a future date. What uncertainties are associated with your model and predictions? Give a specific example of your prediction for the word EERIE on March 1, 2023. How confident are you in your model’s prediction?"
   ]
  },
  {
   "cell_type": "code",
   "execution_count": 29,
   "metadata": {},
   "outputs": [],
   "source": [
    "import numpy as np\n",
    "import pandas as pd\n",
    "import seaborn as sns\n",
    "import matplotlib.pyplot as plt\n",
    "import scipy.stats as stats"
   ]
  },
  {
   "attachments": {},
   "cell_type": "markdown",
   "metadata": {},
   "source": [
    "First, read the dates and the corresponding data."
   ]
  },
  {
   "cell_type": "code",
   "execution_count": 30,
   "metadata": {},
   "outputs": [],
   "source": [
    "df = pd.read_excel(\"./dataset/wordle_data.xlsx\", index_col=0, usecols=\"A,C,D,E,F:L\")\n",
    "df = df.sort_index()"
   ]
  },
  {
   "attachments": {},
   "cell_type": "markdown",
   "metadata": {},
   "source": [
    "### Repeatedness of characters (ROC)\n",
    "\n",
    "We define the ROC of a word by calculating the information entropy of characters in a word, such that\n",
    "\n",
    "$$ H(X):=-\\sum _{x\\in\\mathcal{X}}p(x)\\log p(x)=\\mathbb{E}[-\\log p(X)]. $$"
   ]
  },
  {
   "cell_type": "code",
   "execution_count": 31,
   "metadata": {},
   "outputs": [],
   "source": [
    "def charCount(s):\n",
    "    dic = {}\n",
    "    for ch in s:\n",
    "        try:\n",
    "            dic[ch] += 1\n",
    "        except KeyError:\n",
    "            dic[ch] = 1\n",
    "    return dic\n",
    "\n",
    "def calc_roc(s): \n",
    "    dic = charCount(s)\n",
    "    l = [val for val in dic.values()]\n",
    "    return stats.entropy(l)"
   ]
  },
  {
   "attachments": {},
   "cell_type": "markdown",
   "metadata": {},
   "source": [
    "ROC increases as the repeatedness of letters in a character drops."
   ]
  },
  {
   "cell_type": "code",
   "execution_count": 32,
   "metadata": {},
   "outputs": [
    {
     "name": "stdout",
     "output_type": "stream",
     "text": [
      "ROC of mummy: 0.9502705392332347\n",
      "ROC of apple: 1.3321790402101223\n",
      "ROC of audio: 1.6094379124341005\n"
     ]
    }
   ],
   "source": [
    "print(\"ROC of mummy:\", calc_roc(\"mummy\"))\n",
    "print(\"ROC of apple:\", calc_roc(\"apple\"))\n",
    "print(\"ROC of audio:\", calc_roc(\"audio\"))"
   ]
  },
  {
   "attachments": {},
   "cell_type": "markdown",
   "metadata": {},
   "source": [
    "### Percentage of Vowels (POV)\n",
    "\n",
    "We define the POV of a word by calculating the percentage of vowel characters in a word."
   ]
  },
  {
   "cell_type": "code",
   "execution_count": 33,
   "metadata": {},
   "outputs": [],
   "source": [
    "def calc_pov(s):\n",
    "    I2 = 0\n",
    "    for c in s:\n",
    "        if c in [\"a\", \"e\", \"i\", \"o\", \"u\"]: I2 += 1\n",
    "    return I2 / 5"
   ]
  },
  {
   "attachments": {},
   "cell_type": "markdown",
   "metadata": {},
   "source": [
    "POC increases and the percentage of vowels in a word increases."
   ]
  },
  {
   "cell_type": "code",
   "execution_count": 34,
   "metadata": {},
   "outputs": [
    {
     "name": "stdout",
     "output_type": "stream",
     "text": [
      "POV of mummy: 0.2\n",
      "POV of apple: 0.4\n",
      "POV of audio: 0.8\n"
     ]
    }
   ],
   "source": [
    "print(\"POV of mummy:\", calc_pov(\"mummy\"))\n",
    "print(\"POV of apple:\", calc_pov(\"apple\"))\n",
    "print(\"POV of audio:\", calc_pov(\"audio\"))"
   ]
  },
  {
   "attachments": {},
   "cell_type": "markdown",
   "metadata": {},
   "source": [
    "### Expectation of yellow hit (EYH) and expectation of green hit (EGH)\n",
    "\n",
    "*Any formal mathematical definition? @Linyi*"
   ]
  },
  {
   "cell_type": "code",
   "execution_count": 35,
   "metadata": {},
   "outputs": [],
   "source": [
    "totWords = 2309\n",
    "charRank = {'a': 906, 'b': 266, 'c': 446, 'd': 370, 'e': 1053, 'f': 206, 'g': 299, 'h': 377, 'i': 646, \\\n",
    "            'j': 27, 'k': 202, 'l': 645, 'm': 298, 'n': 548, 'o': 672, 'p': 345, 'q': 29, 'r': 835, \\\n",
    "            's': 617, 't': 667, 'u': 456, 'v': 148, 'w': 193, 'x': 37, 'y': 416, 'z': 35}\n",
    "charRankByPos = [{'a': 140, 'b': 173, 'c': 198, 'd': 111, 'e': 72, 'f': 135, 'g': 115, 'h': 69, \\\n",
    "                  'i': 34, 'j': 20, 'k': 20, 'l': 87, 'm': 107, 'n': 37, 'o': 41, 'p': 141, 'q': 23, \\\n",
    "                  'r': 105, 's': 365, 't': 149, 'u': 33, 'v': 43, 'w': 82, 'y': 6, 'z': 3}, \\\n",
    "                 {'a': 304, 'b': 16, 'c': 40, 'd': 20, 'e': 241, 'f': 8, 'g': 11, 'h': 144, 'i': 201, 'j': 2, \\\n",
    "                  'k': 10, 'l': 200, 'm': 38, 'n': 87, 'o': 279, 'p': 61, 'q': 5, 'r': 267, 's': 16, 't': 77, \\\n",
    "                  'u': 185, 'v': 15, 'w': 44, 'x': 14, 'y': 22, 'z': 2}, {'a': 306, 'b': 56, 'c': 56, 'd': 75, \\\n",
    "                  'e': 177, 'f': 25, 'g': 67, 'h': 9, 'i': 266, 'j': 3, 'k': 12, 'l': 112, 'm': 61, 'n': 137, 'o': 243, \\\n",
    "                  'p': 57, 'q': 1, 'r': 163, 's': 80, 't': 111, 'u': 165, 'v': 49, 'w': 26, 'x': 12, 'y': 29, 'z': 11}, \\\n",
    "                 {'a': 162, 'b': 24, 'c': 150, 'd': 69, 'e': 318, 'f': 35, 'g': 76, 'h': 28, 'i': 158, 'j': 2, \\\n",
    "                  'k': 55, 'l': 162, 'm': 68, 'n': 182, 'o': 132, 'p': 50, 'r': 150, 's': 171, 't': 139, 'u': 82, \\\n",
    "                  'v': 45, 'w': 25, 'x': 3, 'y': 3, 'z': 20}, {'a': 63, 'b': 11, 'c': 31, 'd': 118, 'e': 422, 'f': 26, \\\n",
    "                  'g': 41, 'h': 137, 'i': 11, 'k': 113, 'l': 155, 'm': 42, 'n': 130, 'o': 58, 'p': 56, 'r': 212, 's': 36, \\\n",
    "                  't': 253, 'u': 1, 'w': 17, 'x': 8, 'y': 364, 'z': 4}]"
   ]
  },
  {
   "cell_type": "code",
   "execution_count": 36,
   "metadata": {},
   "outputs": [],
   "source": [
    "def calc_rank():\n",
    "    with open(\"./dataset/wordle_wordbank.txt\") as f:\n",
    "        lines = f.readlines()\n",
    "    print(len(lines))\n",
    "    lines = [s.strip()for s in lines]\n",
    "    dic = {}\n",
    "    dic2 = [{} for _ in range(5)]\n",
    "    for s in lines:\n",
    "        for c in set(s.lower()):\n",
    "            try: dic[c] += 1\n",
    "            except KeyError: dic[c] = 1\n",
    "        for i, c in enumerate(s):\n",
    "            try: dic2[i][c] += 1\n",
    "            except KeyError: dic2[i][c] = 1\n",
    "    return dict(sorted(dic.items())), [dict(sorted(dic2[i].items())) for i in range(5)]\n",
    "\n",
    "def calc_EYH(s):\n",
    "    I3 = 0\n",
    "    for c in set(s):\n",
    "        I3 += charRank[c] / totWords\n",
    "    return I3\n",
    "\n",
    "# I3G is expectation of green hits\n",
    "def calc_EGH(s):\n",
    "    I3 = 0\n",
    "    for i, c in enumerate(s):\n",
    "        I3 += charRankByPos[i][c] / totWords\n",
    "    return I3"
   ]
  },
  {
   "attachments": {},
   "cell_type": "markdown",
   "metadata": {},
   "source": [
    "*Any further explanation of the EYH and EGH? For instance, how to correlates with the easiness of a guess, etc. @Linyi*"
   ]
  },
  {
   "cell_type": "code",
   "execution_count": 37,
   "metadata": {},
   "outputs": [
    {
     "name": "stdout",
     "output_type": "stream",
     "text": [
      "mummy: EYH = 0.5067128627111304, EGH = 0.33997401472498917\n",
      "apple: EYH = 1.2771762667821567, EGH = 0.364660025985275\n",
      "audio: EYH = 1.3209181463837156, EGH = 0.2667821567778259\n"
     ]
    }
   ],
   "source": [
    "print(\"mummy: EYH = {}, EGH = {}\".format(calc_EYH(\"mummy\"), calc_EGH(\"mummy\")))\n",
    "print(\"apple: EYH = {}, EGH = {}\".format(calc_EYH(\"apple\"), calc_EGH(\"apple\")))\n",
    "print(\"audio: EYH = {}, EGH = {}\".format(calc_EYH(\"audio\"), calc_EGH(\"audio\")))"
   ]
  },
  {
   "attachments": {},
   "cell_type": "markdown",
   "metadata": {},
   "source": [
    "### Check the correlation"
   ]
  },
  {
   "cell_type": "code",
   "execution_count": 38,
   "metadata": {},
   "outputs": [],
   "source": [
    "def get_result(df, func_name, row_name):\n",
    "    valAttrib = [func_name(word.strip()) for word in df[\"word\"]]\n",
    "    res = np.asarray(df[row_name])\n",
    "    pearson = np.corrcoef(valAttrib, res)\n",
    "    return pearson[0][1]\n",
    "\n",
    "cols = [\"trial_\" + str(i) for i in range(1, 7)] + [\"trial_x\"]\n",
    "attribs = [calc_roc, calc_pov, calc_EYH, calc_EGH]\n",
    "labels = [\"ROC\", \"POV\", \"EYH\", \"EGH\"]\n",
    "dic = {}\n",
    "for i in range(len(attribs)): \n",
    "    l = []\n",
    "    for colname in cols:\n",
    "        l.append(get_result(df, attribs[i], colname))\n",
    "    dic[labels[i]] = l\n",
    "res = pd.DataFrame(dic, index=[\"tr1\", \"tr2\", \"tr3\", \"tr4\", \"tr5\", \"tr6\", \"trX\"])"
   ]
  },
  {
   "attachments": {},
   "cell_type": "markdown",
   "metadata": {},
   "source": [
    "We will plot the correlation as a heat map, where the blue colors indicate strong negative correlation, the orange colors indicate strong positive correlation, and the shaded colors represent relatively weak correlations. More specifically, $>0.5$ is considered strong, $>0.3$ is considered moderate, and otherwise considered weak."
   ]
  },
  {
   "cell_type": "code",
   "execution_count": 39,
   "metadata": {},
   "outputs": [
    {
     "data": {
      "image/png": "[encoded data removed]",
      "text/plain": [
       "<Figure size 640x480 with 2 Axes>"
      ]
     },
     "metadata": {},
     "output_type": "display_data"
    }
   ],
   "source": [
    "sns.heatmap(res, annot=True, cmap=sns.color_palette(\"blend:#3A95EE,#ED8B34\", as_cmap=True))\n",
    "plt.show()"
   ]
  },
  {
   "attachments": {},
   "cell_type": "markdown",
   "metadata": {},
   "source": [
    "Explicitly print out the correlations."
   ]
  },
  {
   "cell_type": "code",
   "execution_count": 40,
   "metadata": {},
   "outputs": [
    {
     "name": "stdout",
     "output_type": "stream",
     "text": [
      "tr1 vs. EYH: moderate positive, 0.3385\n",
      "tr2 vs. ROC: moderate positive, 0.3624\n",
      "tr2 vs. EYH: strong positive, 0.5808\n",
      "tr2 vs. EGH: moderate positive, 0.3351\n",
      "tr3 vs. ROC: moderate positive, 0.4329\n",
      "tr3 vs. EYH: strong positive, 0.5016\n",
      "tr4 vs. EGH: moderate negative, -0.3115\n",
      "tr5 vs. ROC: moderate negative, -0.4192\n",
      "tr5 vs. EYH: strong negative, -0.5220\n",
      "tr6 vs. ROC: moderate negative, -0.3613\n",
      "tr6 vs. EYH: moderate negative, -0.3685\n"
     ]
    }
   ],
   "source": [
    "for index, row in res.iterrows():\n",
    "    for item, val in row.items():\n",
    "        if val >= 0.5:\n",
    "            print(\"{} vs. {}: strong positive, {:.4f}\".format(index, item, val))\n",
    "        elif val >= 0.3:\n",
    "            print(\"{} vs. {}: moderate positive, {:.4f}\".format(index, item, val))\n",
    "        elif val <= -0.5:\n",
    "            print(\"{} vs. {}: strong negative, {:.4f}\".format(index, item, val))\n",
    "        elif val <= -0.3:\n",
    "            print(\"{} vs. {}: moderate negative, {:.4f}\".format(index, item, val))"
   ]
  }
 ],
 "metadata": {
  "kernelspec": {
   "display_name": ".venv",
   "language": "python",
   "name": "python3"
  },
  "language_info": {
   "codemirror_mode": {
    "name": "ipython",
    "version": 3
   },
   "file_extension": ".py",
   "mimetype": "text/x-python",
   "name": "python",
   "nbconvert_exporter": "python",
   "pygments_lexer": "ipython3",
   "version": "3.9.6"
  },
  "orig_nbformat": 4,
  "vscode": {
   "interpreter": {
    "hash": "fec3e7d24dd26d4741ecd66e0fb7094705806a0205b22c2a5c5101ff21c51c58"
   }
  }
 },
 "nbformat": 4,
 "nbformat_minor": 2
}
