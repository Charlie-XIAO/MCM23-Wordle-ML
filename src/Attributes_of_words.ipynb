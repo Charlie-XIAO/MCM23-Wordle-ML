{
 "cells": [
  {
   "attachments": {},
   "cell_type": "markdown",
   "metadata": {},
   "source": [
    "In this part of code, we will define several index of words. By these indexes we can furthermore analyze the difficulty of guessing the words. "
   ]
  },
  {
   "attachments": {},
   "cell_type": "markdown",
   "metadata": {},
   "source": [
    "# Attributes\n",
    "\n",
    "We will define several attributes of a word: I1, I2, I3, I4. That is: repeatedness of characters, percentage of vowels, rank of characters, and seperation of keyboard. "
   ]
  },
  {
   "cell_type": "code",
   "execution_count": 37,
   "metadata": {},
   "outputs": [],
   "source": [
    "import numpy as np\n",
    "import pandas as pd\n",
    "import scipy.stats as stats\n",
    "import matplotlib.pyplot as plt"
   ]
  },
  {
   "attachments": {},
   "cell_type": "markdown",
   "metadata": {},
   "source": [
    "## I1\n",
    "repeatedness of characters. We define them by calculating the information entropy of characters in a word.\n",
    "\n",
    "$\\displaystyle \\mathrm {H} (X):=-\\sum _{x\\in {\\mathcal {X}}}p(x)\\log p(x)=\\mathbb {E} [-\\log p(X)]$"
   ]
  },
  {
   "cell_type": "code",
   "execution_count": 38,
   "metadata": {},
   "outputs": [
    {
     "name": "stdout",
     "output_type": "stream",
     "text": [
      "0.9502705392332347 1.3321790402101223 1.6094379124341005\n"
     ]
    }
   ],
   "source": [
    "# returns I1. s is the word.\n",
    "def charCount(s):\n",
    "    dic = {}\n",
    "    for ch in s:\n",
    "        try:\n",
    "            dic[ch] += 1\n",
    "        except KeyError:\n",
    "            dic[ch] = 1\n",
    "    return dic\n",
    "\n",
    "def calc_A1(s): \n",
    "    dic = charCount(s)\n",
    "    l = [val for val in dic.values()]\n",
    "    return stats.entropy(l) # will normalize\n",
    "\n",
    "\n",
    "# I1 gets bigger when the repeadness of a word is lower. \n",
    "print(calc_A1('mummy'), calc_A1('apple'), calc_A1('audio'))"
   ]
  },
  {
   "attachments": {},
   "cell_type": "markdown",
   "metadata": {},
   "source": [
    "## I2 \n",
    "percentage of vowels. We define them by calculating the percentage of vowel characters in a word.\n"
   ]
  },
  {
   "cell_type": "code",
   "execution_count": 39,
   "metadata": {},
   "outputs": [
    {
     "name": "stdout",
     "output_type": "stream",
     "text": [
      "0.2 0.4 0.8\n"
     ]
    }
   ],
   "source": [
    "def calc_A2(s): \n",
    "    dic = charCount(s)\n",
    "    I2 = 0\n",
    "    for c in s:\n",
    "        if c in ['a', 'e', 'i', 'o', 'u']: I2 += 1\n",
    "    return I2 / 5\n",
    "\n",
    "# I2 counts percentage of vowel characters in a word. \n",
    "print(calc_A2('mummy'), calc_A2('apple'), calc_A2('audio'))"
   ]
  },
  {
   "attachments": {},
   "cell_type": "markdown",
   "metadata": {},
   "source": [
    "# A3 \n",
    "Expectation of Yellow Hit and Green Hit."
   ]
  },
  {
   "cell_type": "code",
   "execution_count": 40,
   "metadata": {},
   "outputs": [
    {
     "name": "stdout",
     "output_type": "stream",
     "text": [
      "2309\n",
      "({'a': 906, 'b': 266, 'c': 446, 'd': 370, 'e': 1053, 'f': 206, 'g': 299, 'h': 377, 'i': 646, 'j': 27, 'k': 202, 'l': 645, 'm': 298, 'n': 548, 'o': 672, 'p': 345, 'q': 29, 'r': 835, 's': 617, 't': 667, 'u': 456, 'v': 148, 'w': 193, 'x': 37, 'y': 416, 'z': 35}, [{'a': 140, 'b': 173, 'c': 198, 'd': 111, 'e': 72, 'f': 135, 'g': 115, 'h': 69, 'i': 34, 'j': 20, 'k': 20, 'l': 87, 'm': 107, 'n': 37, 'o': 41, 'p': 141, 'q': 23, 'r': 105, 's': 365, 't': 149, 'u': 33, 'v': 43, 'w': 82, 'y': 6, 'z': 3}, {'a': 304, 'b': 16, 'c': 40, 'd': 20, 'e': 241, 'f': 8, 'g': 11, 'h': 144, 'i': 201, 'j': 2, 'k': 10, 'l': 200, 'm': 38, 'n': 87, 'o': 279, 'p': 61, 'q': 5, 'r': 267, 's': 16, 't': 77, 'u': 185, 'v': 15, 'w': 44, 'x': 14, 'y': 22, 'z': 2}, {'a': 306, 'b': 56, 'c': 56, 'd': 75, 'e': 177, 'f': 25, 'g': 67, 'h': 9, 'i': 266, 'j': 3, 'k': 12, 'l': 112, 'm': 61, 'n': 137, 'o': 243, 'p': 57, 'q': 1, 'r': 163, 's': 80, 't': 111, 'u': 165, 'v': 49, 'w': 26, 'x': 12, 'y': 29, 'z': 11}, {'a': 162, 'b': 24, 'c': 150, 'd': 69, 'e': 318, 'f': 35, 'g': 76, 'h': 28, 'i': 158, 'j': 2, 'k': 55, 'l': 162, 'm': 68, 'n': 182, 'o': 132, 'p': 50, 'r': 150, 's': 171, 't': 139, 'u': 82, 'v': 45, 'w': 25, 'x': 3, 'y': 3, 'z': 20}, {'a': 63, 'b': 11, 'c': 31, 'd': 118, 'e': 422, 'f': 26, 'g': 41, 'h': 137, 'i': 11, 'k': 113, 'l': 155, 'm': 42, 'n': 130, 'o': 58, 'p': 56, 'r': 212, 's': 36, 't': 253, 'u': 1, 'w': 17, 'x': 8, 'y': 364, 'z': 4}])\n"
     ]
    }
   ],
   "source": [
    "def calc_rank():\n",
    "    with open('./dataset/Wordle_Wordbank.txt') as f:\n",
    "        lines = f.readlines()\n",
    "    print(len(lines))\n",
    "    lines = [s.strip()for s in lines]\n",
    "    dic = {}\n",
    "    dic2 = [{} for i in range(5)]\n",
    "    for s in lines:\n",
    "        # print(s)\n",
    "        for c in set(s.lower()):\n",
    "            # print(ord(c) - ord('a'))\n",
    "            try: dic[c] += 1\n",
    "            except KeyError: dic[c] = 1\n",
    "        for i, c in enumerate(s):\n",
    "            try: dic2[i][c] += 1\n",
    "            except KeyError: dic2[i][c] = 1\n",
    "    return  dict(sorted(dic.items())), [dict(sorted(dic2[i].items())) for i in range(5)]\n",
    " \n",
    "print(calc_rank())"
   ]
  },
  {
   "cell_type": "code",
   "execution_count": 41,
   "metadata": {},
   "outputs": [
    {
     "name": "stdout",
     "output_type": "stream",
     "text": [
      "0.5067128627111304 1.2771762667821567 1.3209181463837159\n",
      "0.33997401472498917 0.364660025985275 0.2667821567778259\n"
     ]
    }
   ],
   "source": [
    "charRank, charRankByPos =   {'a': 906, 'b': 266, 'c': 446, 'd': 370, 'e': 1053, 'f': 206, 'g': 299, 'h': 377, 'i': 646, \\\n",
    "                             'j': 27, 'k': 202, 'l': 645, 'm': 298, 'n': 548, 'o': 672, 'p': 345, 'q': 29, 'r': 835,\\\n",
    "                                  's': 617, 't': 667, 'u': 456, 'v': 148, 'w': 193, 'x': 37, 'y': 416, 'z': 35}, \\\n",
    "                                    [{'a': 140, 'b': 173, 'c': 198, 'd': 111, 'e': 72, 'f': 135, 'g': 115, 'h': 69, \\\n",
    "                                      'i': 34, 'j': 20, 'k': 20, 'l': 87, 'm': 107, 'n': 37, 'o': 41, 'p': 141, 'q': 23,\\\n",
    "                                          'r': 105, 's': 365, 't': 149, 'u': 33, 'v': 43, 'w': 82, 'y': 6, 'z': 3},\\\n",
    "                                              {'a': 304, 'b': 16, 'c': 40, 'd': 20, 'e': 241, 'f': 8, 'g': 11, 'h': 144, 'i': 201, 'j': 2, 'k': 10, 'l': 200, 'm': 38, 'n': 87, 'o': 279, 'p': 61, 'q': 5, 'r': 267, 's': 16, 't': 77, 'u': 185, 'v': 15, 'w': 44, 'x': 14, 'y': 22, 'z': 2}, {'a': 306, 'b': 56, 'c': 56, 'd': 75, 'e': 177, 'f': 25, 'g': 67, 'h': 9, 'i': 266, 'j': 3, 'k': 12, 'l': 112, 'm': 61, 'n': 137, 'o': 243, 'p': 57, 'q': 1, 'r': 163, 's': 80, 't': 111, 'u': 165, 'v': 49, 'w': 26, 'x': 12, 'y': 29, 'z': 11}, {'a': 162, 'b': 24, 'c': 150, 'd': 69, 'e': 318, 'f': 35, 'g': 76, 'h': 28, 'i': 158, 'j': 2, 'k': 55, 'l': 162, 'm': 68, 'n': 182, 'o': 132, 'p': 50, 'r': 150, 's': 171, 't': 139, 'u': 82, 'v': 45, 'w': 25, 'x': 3, 'y': 3, 'z': 20}, {'a': 63, 'b': 11, 'c': 31, 'd': 118, 'e': 422, 'f': 26, 'g': 41, 'h': 137, 'i': 11, 'k': 113, 'l': 155, 'm': 42, 'n': 130, 'o': 58, 'p': 56, 'r': 212, 's': 36, 't': 253, 'u': 1, 'w': 17, 'x': 8, 'y': 364, 'z': 4}]\n",
    "totWords = 2309\n",
    "# I3Y is expectation of yellow hits (same letter doesn't count twice)\n",
    "def calc_A3Y(s):\n",
    "    I3 = 0\n",
    "    for c in set(s):\n",
    "        I3 += charRank[c] / totWords\n",
    "    return I3\n",
    "\n",
    "# I3 counts how easy can people guess correctly one character from the word\n",
    "print(calc_A3Y('mummy'), calc_A3Y('apple'), calc_A3Y('audio'))\n",
    "\n",
    "# I3G is expectation of green hits\n",
    "def calc_A3G(s):\n",
    "    I3 = 0\n",
    "    for i, c in enumerate(s):\n",
    "        I3 += charRankByPos[i][c] / totWords\n",
    "    return I3\n",
    "\n",
    "print(calc_A3G('mummy'), calc_A3G('apple'), calc_A3G('audio'))\n"
   ]
  },
  {
   "attachments": {},
   "cell_type": "markdown",
   "metadata": {},
   "source": [
    "# Check the correlation between Attributes and TP & H/T"
   ]
  },
  {
   "cell_type": "code",
   "execution_count": 44,
   "metadata": {},
   "outputs": [
    {
     "name": "stdout",
     "output_type": "stream",
     "text": [
      "            contest_num   word  result_num  hard_mode_num  trial_1  trial_2  \\\n",
      "date                                                                          \n",
      "2022-12-31          560  manly       20380           1899        0        2   \n",
      "2022-12-30          559  molar       21204           1973        0        4   \n",
      "2022-12-29          558  havoc       20001           1919        0        2   \n",
      "2022-12-28          557  impel       20160           1937        0        3   \n",
      "2022-12-27          556  condo       20879           2012        0        2   \n",
      "...                 ...    ...         ...            ...      ...      ...   \n",
      "2022-01-11          206  drink      153880           3017        1        9   \n",
      "2022-01-10          205  query      107134           2242        1        4   \n",
      "2022-01-09          204  gorge       91477           1913        1        3   \n",
      "2022-01-08          203  crank      101503           1763        1        5   \n",
      "2022-01-07          202  slump       80630           1362        1        3   \n",
      "\n",
      "            trial_3  trial_4  trial_5  trial_6  trial_x       H/T  \n",
      "date                                                               \n",
      "2022-12-31       17       37       29       12        2  0.093180  \n",
      "2022-12-30       21       38       26        9        1  0.093048  \n",
      "2022-12-29       16       38       30       12        2  0.095945  \n",
      "2022-12-28       21       40       25        9        1  0.096081  \n",
      "2022-12-27       17       35       29       14        3  0.096365  \n",
      "...             ...      ...      ...      ...      ...       ...  \n",
      "2022-01-11       35       34       16        5        1  0.019606  \n",
      "2022-01-10       16       30       30       17        2  0.020927  \n",
      "2022-01-09       13       27       30       22        4  0.020912  \n",
      "2022-01-08       23       31       24       14        2  0.017369  \n",
      "2022-01-07       23       39       24        9        1  0.016892  \n",
      "\n",
      "[359 rows x 12 columns]\n"
     ]
    }
   ],
   "source": [
    "data = pd.read_excel(\"./dataset/wordle_data.xlsx\", index_col=0)\n",
    "print(data)"
   ]
  },
  {
   "cell_type": "code",
   "execution_count": 46,
   "metadata": {},
   "outputs": [
    {
     "name": "stdout",
     "output_type": "stream",
     "text": [
      "          calc_A1   calc_A2  calc_A3Y  calc_A3G\n",
      "trial_1  0.222949  0.085566  0.338521  0.280004\n",
      "trial_2  0.362358  0.125828  0.580781  0.335103\n",
      "trial_3  0.432937  0.006557  0.501621  0.172001\n",
      "trial_4  0.098531 -0.104577 -0.116221 -0.311545\n",
      "trial_5 -0.419158  0.034670 -0.521995 -0.259876\n",
      "trial_6 -0.361306 -0.005921 -0.368545 -0.011690\n",
      "trial_x -0.202787 -0.046894 -0.123720  0.099137\n",
      "H/T     -0.081527  0.079484 -0.039814 -0.119932\n"
     ]
    }
   ],
   "source": [
    "def get_result(df, func_name, row_name):\n",
    "    valAttrib = [func_name(word.strip()) for word in df['word']]\n",
    "    res = np.asarray(df[row_name])\n",
    "    pearson = np.corrcoef(valAttrib, res)\n",
    "    # plt.scatter(valAttrib, res)\n",
    "    # plt.show()\n",
    "    return pearson[0][1]\n",
    "\n",
    "cols = ['trial_' + str(i) for i in range(1,7)] + ['trial_x'] + ['H/T']\n",
    "attribs = [calc_A1, calc_A2, calc_A3Y, calc_A3G]\n",
    "dic = {}\n",
    "for attrib in attribs: \n",
    "    l = []\n",
    "    for colname in cols:\n",
    "        l.append(get_result(data, attrib, colname))\n",
    "    dic[attrib.__name__] = l\n",
    "res = pd.DataFrame(dic, index = cols)\n",
    "    \n",
    "print(res)\n",
    "\n"
   ]
  },
  {
   "cell_type": "code",
   "execution_count": null,
   "metadata": {},
   "outputs": [],
   "source": []
  }
 ],
 "metadata": {
  "kernelspec": {
   "display_name": ".venv",
   "language": "python",
   "name": "python3"
  },
  "language_info": {
   "codemirror_mode": {
    "name": "ipython",
    "version": 3
   },
   "file_extension": ".py",
   "mimetype": "text/x-python",
   "name": "python",
   "nbconvert_exporter": "python",
   "pygments_lexer": "ipython3",
   "version": "3.10.10"
  },
  "orig_nbformat": 4,
  "vscode": {
   "interpreter": {
    "hash": "62b5432f130db390656bc9ccaa0428fff5aa5916c0983aaa09f292570575f5a4"
   }
  }
 },
 "nbformat": 4,
 "nbformat_minor": 2
}
